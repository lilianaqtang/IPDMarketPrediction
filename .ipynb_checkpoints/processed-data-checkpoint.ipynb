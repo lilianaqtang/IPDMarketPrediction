{
 "cells": [
  {
   "cell_type": "code",
   "execution_count": 20,
   "metadata": {},
   "outputs": [],
   "source": [
    "import pandas as pd\n",
    "import numpy as np"
   ]
  },
  {
   "cell_type": "code",
   "execution_count": 19,
   "metadata": {},
   "outputs": [
    {
     "data": {
      "text/plain": [
       "'2021'"
      ]
     },
     "metadata": {},
     "output_type": "display_data"
    },
    {
     "data": {
      "text/html": [
       "<div>\n",
       "<style scoped>\n",
       "    .dataframe tbody tr th:only-of-type {\n",
       "        vertical-align: middle;\n",
       "    }\n",
       "\n",
       "    .dataframe tbody tr th {\n",
       "        vertical-align: top;\n",
       "    }\n",
       "\n",
       "    .dataframe thead th {\n",
       "        text-align: right;\n",
       "    }\n",
       "</style>\n",
       "<table border=\"1\" class=\"dataframe\">\n",
       "  <thead>\n",
       "    <tr style=\"text-align: right;\">\n",
       "      <th>geo</th>\n",
       "      <th>Alberta</th>\n",
       "      <th>British Columbia</th>\n",
       "      <th>Ontario</th>\n",
       "    </tr>\n",
       "  </thead>\n",
       "  <tbody>\n",
       "    <tr>\n",
       "      <th>2011</th>\n",
       "      <td>26963.00</td>\n",
       "      <td>34761.0</td>\n",
       "      <td>73772.0</td>\n",
       "    </tr>\n",
       "    <tr>\n",
       "      <th>2012</th>\n",
       "      <td>33239.00</td>\n",
       "      <td>0.0</td>\n",
       "      <td>84547.0</td>\n",
       "    </tr>\n",
       "    <tr>\n",
       "      <th>2013</th>\n",
       "      <td>43041.00</td>\n",
       "      <td>42170.0</td>\n",
       "      <td>91383.0</td>\n",
       "    </tr>\n",
       "    <tr>\n",
       "      <th>2014</th>\n",
       "      <td>46444.00</td>\n",
       "      <td>42063.0</td>\n",
       "      <td>85846.0</td>\n",
       "    </tr>\n",
       "    <tr>\n",
       "      <th>2015</th>\n",
       "      <td>51286.00</td>\n",
       "      <td>57762.0</td>\n",
       "      <td>88258.0</td>\n",
       "    </tr>\n",
       "    <tr>\n",
       "      <th>2016</th>\n",
       "      <td>34860.00</td>\n",
       "      <td>55230.0</td>\n",
       "      <td>96579.0</td>\n",
       "    </tr>\n",
       "    <tr>\n",
       "      <th>2017</th>\n",
       "      <td>29551.00</td>\n",
       "      <td>69781.0</td>\n",
       "      <td>97539.0</td>\n",
       "    </tr>\n",
       "    <tr>\n",
       "      <th>2018</th>\n",
       "      <td>51424.00</td>\n",
       "      <td>107906.0</td>\n",
       "      <td>162945.0</td>\n",
       "    </tr>\n",
       "    <tr>\n",
       "      <th>2021</th>\n",
       "      <td>1134508.91</td>\n",
       "      <td>1134490.0</td>\n",
       "      <td>1067376.0</td>\n",
       "    </tr>\n",
       "  </tbody>\n",
       "</table>\n",
       "</div>"
      ],
      "text/plain": [
       "geo      Alberta  British Columbia    Ontario\n",
       "2011    26963.00           34761.0    73772.0\n",
       "2012    33239.00               0.0    84547.0\n",
       "2013    43041.00           42170.0    91383.0\n",
       "2014    46444.00           42063.0    85846.0\n",
       "2015    51286.00           57762.0    88258.0\n",
       "2016    34860.00           55230.0    96579.0\n",
       "2017    29551.00           69781.0    97539.0\n",
       "2018    51424.00          107906.0   162945.0\n",
       "2021  1134508.91         1134490.0  1067376.0"
      ]
     },
     "metadata": {},
     "output_type": "display_data"
    },
    {
     "data": {
      "text/plain": [
       "2014         174353\n",
       "2015         197306\n",
       "2016         186669\n",
       "2017         196871\n",
       "2018         322275\n",
       "2021    3.33637e+06\n",
       "Name: Total, dtype: object"
      ]
     },
     "execution_count": 19,
     "metadata": {},
     "output_type": "execute_result"
    }
   ],
   "source": [
    "# Load the data set\n",
    "confirmed_dataset = 'https://raw.githubusercontent.com/lilianaqtang/IPDMarketPrediction/main/dataset_predicted_province.csv'\n",
    "building_permits_confirmed =  pd.read_csv(confirmed_dataset,index_col='geo')\n",
    "building_permits_confirmed\n",
    "# confirmed_latest\n",
    "confirmed_latest = building_permits_confirmed.T.index.values[-1]\n",
    "#display(confirmed_latest)\n",
    "# df_confirmed\n",
    "df_by_province = building_permits_confirmed.groupby('geo').sum()\n",
    "#deaths_latest = building_permits_confirmed.T.index.values[-1]\n",
    "#deaths_latest\n",
    "#df_by_grouped_province = building_permits_confirmed.groupby(['year', 'geo'])['building_permits_sum'].agg('sum')\n",
    "#df_by_province = df_by_grouped_province.to_frame()\n",
    "\n",
    "#display(df_grouped_conf.head(10))\n",
    "df_by_province=df_by_province.sort_values(by=confirmed_latest,ascending=False).head(10).T\n",
    "#display(df_by_province)\n",
    "#display(df_confirmed)\n",
    "\n",
    "# display(df_confirmed)\n",
    "# df_confirmed_total\n",
    "building_permits_confirmed.loc[\"Total\"] = building_permits_confirmed.sum()\n",
    "df_confirmed_total=building_permits_confirmed.iloc[-1,4:]\n",
    "#df_confirmed_total"
   ]
  },
  {
   "cell_type": "code",
   "execution_count": null,
   "metadata": {},
   "outputs": [],
   "source": []
  }
 ],
 "metadata": {
  "kernelspec": {
   "display_name": "Python 3",
   "language": "python",
   "name": "python3"
  },
  "language_info": {
   "codemirror_mode": {
    "name": "ipython",
    "version": 3
   },
   "file_extension": ".py",
   "mimetype": "text/x-python",
   "name": "python",
   "nbconvert_exporter": "python",
   "pygments_lexer": "ipython3",
   "version": "3.6.5"
  },
  "widgets": {
   "application/vnd.jupyter.widget-state+json": {
    "state": {},
    "version_major": 2,
    "version_minor": 0
   }
  }
 },
 "nbformat": 4,
 "nbformat_minor": 4
}
